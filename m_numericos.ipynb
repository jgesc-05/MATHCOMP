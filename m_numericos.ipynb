{
  "nbformat": 4,
  "nbformat_minor": 0,
  "metadata": {
    "colab": {
      "provenance": []
    },
    "kernelspec": {
      "name": "python3",
      "display_name": "Python 3"
    },
    "language_info": {
      "name": "python"
    }
  },
  "cells": [
    {
      "cell_type": "code",
      "execution_count": 42,
      "metadata": {
        "id": "zuYlpg20DUwe"
      },
      "outputs": [],
      "source": []
    },
    {
      "cell_type": "code",
      "source": [
        "import math\n",
        "\n",
        "def myexp(x):\n",
        "  e=0\n",
        "  for i in range(0,15):\n",
        "    e=e+(x**i)/math.factorial(i)\n",
        "  return e\n",
        "\n",
        "print(f\"Aproximación de raíz de e con Maclaurin: {myexp(0.5)}\")\n",
        "print(\"Fueron usados 15 \")\n"
      ],
      "metadata": {
        "colab": {
          "base_uri": "https://localhost:8080/"
        },
        "id": "rcXrVyrrPC7B",
        "outputId": "1bf20421-a367-49da-8540-88294b871482"
      },
      "execution_count": 43,
      "outputs": [
        {
          "output_type": "stream",
          "name": "stdout",
          "text": [
            "Aproximación de raíz de e con Maclaurin: 1.6487212707001278\n",
            "Fueron usados 15 \n"
          ]
        }
      ]
    }
  ]
}