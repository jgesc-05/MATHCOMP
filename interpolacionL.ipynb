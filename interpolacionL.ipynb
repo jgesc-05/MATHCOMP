{
  "nbformat": 4,
  "nbformat_minor": 0,
  "metadata": {
    "colab": {
      "provenance": []
    },
    "kernelspec": {
      "name": "python3",
      "display_name": "Python 3"
    },
    "language_info": {
      "name": "python"
    }
  },
  "cells": [
    {
      "cell_type": "code",
      "execution_count": 8,
      "metadata": {
        "colab": {
          "base_uri": "https://localhost:8080/"
        },
        "id": "I7OB2YEJBpbw",
        "outputId": "299d0c88-29c8-463f-f42c-67693b583aee"
      },
      "outputs": [
        {
          "output_type": "stream",
          "name": "stdout",
          "text": [
            "f(2.5) usando interpolación de grado 1: -0.5\n",
            "f(2.5) usando interpolación de grado 2: 1.9375\n",
            "f(2.5) usando interpolación de grado 3: 1.59375\n",
            "Polinomio de grado 1: 0.5 + x\n",
            "Polinomio de grado 2: 0.5 + 0.1x + 2x^2\n"
          ]
        }
      ],
      "source": [
        "import numpy as np\n",
        "\n",
        "\n",
        "puntos_x = np.array([0, 1, 2, 3, 4])\n",
        "puntos_y = np.array([0.5, 0.1, 1, 2.1, 2.4])\n",
        "\n",
        "\n",
        "def lagrange_interpolacion(x, puntos_x, puntos_y, grado):\n",
        "    x_points = puntos_x[:grado + 1]\n",
        "    y_points = puntos_y[:grado + 1]\n",
        "\n",
        "    resultado = 0\n",
        "    for i in range(grado + 1):\n",
        "        termino = y_points[i]\n",
        "        for j in range(grado + 1):\n",
        "            if i != j:\n",
        "                termino *= (x - x_points[j]) / (x_points[i] - x_points[j])\n",
        "        resultado += termino\n",
        "    return resultado\n",
        "\n",
        "x_evaluar = 2.5\n",
        "f_2_5_grado_1 = lagrange_interpolacion(x_evaluar, puntos_x, puntos_y, grado=1)\n",
        "f_2_5_grado_2 = lagrange_interpolacion(x_evaluar, puntos_x, puntos_y, grado=2)\n",
        "f_2_5_grado_3 = lagrange_interpolacion(x_evaluar, puntos_x, puntos_y, grado=3)\n",
        "\n",
        "print(f\"f(2.5) usando interpolación de grado 1: {f_2_5_grado_1}\")\n",
        "print(f\"f(2.5) usando interpolación de grado 2: {f_2_5_grado_2}\")\n",
        "print(f\"f(2.5) usando interpolación de grado 3: {f_2_5_grado_3}\")\n",
        "\n",
        "print(f\"Polinomio de grado 1: {puntos_y[0]} + x\")\n",
        "print(f\"Polinomio de grado 2: {puntos_y[0]} + {puntos_y[1]}x + {puntos_x[2]}x^2\")\n"
      ]
    }
  ]
}