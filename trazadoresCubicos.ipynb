{
  "nbformat": 4,
  "nbformat_minor": 0,
  "metadata": {
    "colab": {
      "provenance": []
    },
    "kernelspec": {
      "name": "python3",
      "display_name": "Python 3"
    },
    "language_info": {
      "name": "python"
    }
  },
  "cells": [
    {
      "cell_type": "code",
      "execution_count": 1,
      "metadata": {
        "colab": {
          "base_uri": "https://localhost:8080/"
        },
        "id": "Kddho4DQIrdB",
        "outputId": "8e174028-770a-47f2-d1e2-dab2fa8aae5f"
      },
      "outputs": [
        {
          "output_type": "stream",
          "name": "stdout",
          "text": [
            "Valor de f(0.5) usando el trazador cúbico: 1.2875000000000003\n",
            "Valor de f(0.5) usando la función base: 1.23125\n"
          ]
        }
      ],
      "source": [
        "import numpy as np\n",
        "from scipy.interpolate import CubicSpline\n",
        "\n",
        "# Puntos dados\n",
        "puntos_x = np.array([0, 1, 2, 3, 4])\n",
        "puntos_y = np.array([1, 0.9, -1, -2.3, 1.8])\n",
        "\n",
        "# Creación del spline cúbico\n",
        "spline_cubico = CubicSpline(puntos_x, puntos_y)\n",
        "\n",
        "# Evaluación en x = 0.5\n",
        "x_evaluar = 0.5\n",
        "resultado = spline_cubico(x_evaluar)\n",
        "\n",
        "# Mostrar resultado\n",
        "print(f\"Valor de f(0.5) usando el trazador cúbico: {resultado}\")\n",
        "\n",
        "\n",
        "# Definir la función base\n",
        "def funcion_base(x):\n",
        "    return 0.1 * x**4 - 0.2 * x**3 - x**2 + x + 1\n",
        "\n",
        "# Evaluar en x = 0.5\n",
        "resultado_base = funcion_base(x_evaluar)\n",
        "\n",
        "print(f\"Valor de f(0.5) usando la función base: {resultado_base}\")\n"
      ]
    }
  ]
}