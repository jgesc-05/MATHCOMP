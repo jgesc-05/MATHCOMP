{
  "nbformat": 4,
  "nbformat_minor": 0,
  "metadata": {
    "colab": {
      "provenance": []
    },
    "kernelspec": {
      "name": "python3",
      "display_name": "Python 3"
    },
    "language_info": {
      "name": "python"
    }
  },
  "cells": [
    {
      "cell_type": "code",
      "execution_count": 1,
      "metadata": {
        "colab": {
          "base_uri": "https://localhost:8080/"
        },
        "id": "oHTg5Lbc63U1",
        "outputId": "cd628192-d1f3-46b9-bdc8-fe203c012b28"
      },
      "outputs": [
        {
          "output_type": "stream",
          "name": "stdout",
          "text": [
            "Coeficiente de correlación de Pearson: 0.9998183947032745\n"
          ]
        }
      ],
      "source": [
        "import numpy as np\n",
        "from scipy.stats import pearsonr\n",
        "\n",
        "# Datos de ejemplo\n",
        "X = np.array([0,1,2,3,4,5,6])\n",
        "Y = np.array([-0.9,0,2,4.5,8.3,13,18])\n",
        "\n",
        "# Ajustar un polinomio de grado 2\n",
        "coeficientes = np.polyfit(X, Y, 2)\n",
        "polinomio = np.poly1d(coeficientes)\n",
        "\n",
        "# Generar valores predichos\n",
        "Y_pred = polinomio(X)\n",
        "\n",
        "# Calcular el coeficiente de correlación de Pearson\n",
        "coeficiente_pearson, p_valor = pearsonr(Y, Y_pred)\n",
        "\n",
        "# Imprimir los resultados\n",
        "print(f'Coeficiente de correlación de Pearson: {coeficiente_pearson}')"
      ]
    },
    {
      "cell_type": "code",
      "source": [],
      "metadata": {
        "id": "HebmTuDlE_nT"
      },
      "execution_count": null,
      "outputs": []
    }
  ]
}