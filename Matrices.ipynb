{
  "nbformat": 4,
  "nbformat_minor": 0,
  "metadata": {
    "colab": {
      "provenance": []
    },
    "kernelspec": {
      "name": "python3",
      "display_name": "Python 3"
    },
    "language_info": {
      "name": "python"
    }
  },
  "cells": [
    {
      "cell_type": "code",
      "execution_count": 1,
      "metadata": {
        "colab": {
          "base_uri": "https://localhost:8080/"
        },
        "id": "SeescPt53vgg",
        "outputId": "6b53c044-c564-49f7-8af1-abc4e95c15e3"
      },
      "outputs": [
        {
          "output_type": "stream",
          "name": "stdout",
          "text": [
            "Introduce la longitud de los vectores: 2\n",
            "Introduce el elemento 1 del vector 1: 1\n",
            "Introduce el elemento 2 del vector 1: 1\n",
            "Introduce el elemento 1 del vector 2: 3\n",
            "Introduce el elemento 2 del vector 2: 3\n",
            "El producto escalar de los dos vectores es: 6.0\n"
          ]
        }
      ],
      "source": [
        "import numpy as np\n",
        "\n",
        "# Solicitar la longitud del vector\n",
        "n = int(input(\"Introduce la longitud de los vectores: \"))\n",
        "\n",
        "# Solicitar los vectores\n",
        "vector1 = np.array([float(input(f\"Introduce el elemento {i+1} del vector 1: \")) for i in range(n)])\n",
        "vector2 = np.array([float(input(f\"Introduce el elemento {i+1} del vector 2: \")) for i in range(n)])\n",
        "\n",
        "# Calcular el producto escalar\n",
        "producto_escalar = np.dot(vector1, vector2)\n",
        "\n",
        "print(f\"El producto escalar de los dos vectores es: {producto_escalar}\")\n"
      ]
    },
    {
      "cell_type": "code",
      "source": [
        "import numpy as np\n",
        "\n",
        "# Función para solicitar una matriz\n",
        "def solicitar_matriz(filas, columnas, nombre):\n",
        "    print(f\"Introduce los elementos de la matriz {nombre}:\")\n",
        "    matriz = []\n",
        "    for i in range(filas):\n",
        "        fila = [float(input(f\"Elemento [{i+1},{j+1}]: \")) for j in range(columnas)]\n",
        "        matriz.append(fila)\n",
        "    return np.array(matriz)\n",
        "\n",
        "# Solicitar dimensiones de las matrices\n",
        "filas_A = int(input(\"Introduce el número de filas de la matriz A: \"))\n",
        "columnas_A = int(input(\"Introduce el número de columnas de la matriz A: \"))\n",
        "filas_B = int(input(\"Introduce el número de filas de la matriz B: \"))\n",
        "columnas_B = int(input(\"Introduce el número de columnas de la matriz B: \"))\n",
        "\n",
        "# Solicitar las matrices A y B\n",
        "A = solicitar_matriz(filas_A, columnas_A, \"A\")\n",
        "B = solicitar_matriz(filas_B, columnas_B, \"B\")\n",
        "\n",
        "# Operación a: 3A\n",
        "print(\"3A =\\n\", 3 * A)\n",
        "\n",
        "# Operación b: 4B\n",
        "print(\"4B =\\n\", 4 * B)\n",
        "\n",
        "# Operación c: A + B (si tienen las mismas dimensiones)\n",
        "if A.shape == B.shape:\n",
        "    print(\"A + B =\\n\", A + B)\n",
        "else:\n",
        "    print(\"A + B no es posible, las matrices tienen diferentes dimensiones.\")\n",
        "\n",
        "# Operación d: B * A (multiplicación de matrices si las dimensiones son compatibles)\n",
        "if B.shape[1] == A.shape[0]:\n",
        "    print(\"B * A =\\n\", np.dot(B, A))\n",
        "else:\n",
        "    print(\"B * A no es posible, las dimensiones no son compatibles.\")\n",
        "4"
      ],
      "metadata": {
        "colab": {
          "base_uri": "https://localhost:8080/"
        },
        "id": "69rGADCn4HE3",
        "outputId": "f3cd068a-f96d-438f-e165-93d63b1dadcd"
      },
      "execution_count": 2,
      "outputs": [
        {
          "output_type": "stream",
          "name": "stdout",
          "text": [
            "Introduce el número de filas de la matriz A: 2\n",
            "Introduce el número de columnas de la matriz A: 1\n",
            "Introduce el número de filas de la matriz B: 4\n",
            "Introduce el número de columnas de la matriz B: 3\n",
            "Introduce los elementos de la matriz A:\n",
            "Elemento [1,1]: 1\n",
            "Elemento [2,1]: 2\n",
            "Introduce los elementos de la matriz B:\n",
            "Elemento [1,1]: 3\n",
            "Elemento [1,2]: 4\n",
            "Elemento [1,3]: 6\n",
            "Elemento [2,1]: 7\n",
            "Elemento [2,2]: 0\n",
            "Elemento [2,3]: 7\n",
            "Elemento [3,1]: 3\n",
            "Elemento [3,2]: 4\n",
            "Elemento [3,3]: 4\n",
            "Elemento [4,1]: 4\n",
            "Elemento [4,2]: 4\n",
            "Elemento [4,3]: 4\n",
            "3A =\n",
            " [[3.]\n",
            " [6.]]\n",
            "4B =\n",
            " [[12. 16. 24.]\n",
            " [28.  0. 28.]\n",
            " [12. 16. 16.]\n",
            " [16. 16. 16.]]\n",
            "A + B no es posible, las matrices tienen diferentes dimensiones.\n",
            "B * A no es posible, las dimensiones no son compatibles.\n"
          ]
        }
      ]
    },
    {
      "cell_type": "code",
      "source": [
        "import numpy as np\n",
        "\n",
        "# Matriz aumentada\n",
        "A = np.array([[1, 0, 1, 2.5],\n",
        "              [3, 4, 3, 11.5],\n",
        "              [4, 1, 0, 15]], dtype=float)\n",
        "\n",
        "# Función para realizar la eliminación Gauss-Jordan\n",
        "def gauss_jordan(A):\n",
        "    filas, columnas = A.shape\n",
        "\n",
        "    for i in range(filas):\n",
        "        # Pivoteo: hacer que A[i, i] sea 1 dividiendo toda la fila i por A[i, i]\n",
        "        A[i] = A[i] / A[i, i]\n",
        "\n",
        "        # Eliminar los elementos en la columna i en otras filas\n",
        "        for j in range(filas):\n",
        "            if i != j:\n",
        "                A[j] = A[j] - A[j, i] * A[i]\n",
        "\n",
        "    return A\n",
        "\n",
        "# Aplicar el método de Gauss-Jordan\n",
        "solucion = gauss_jordan(A)\n",
        "\n",
        "# Las soluciones están en la última columna de la matriz aumentada\n",
        "x1, x2, x3 = solucion[:, -1]\n",
        "\n",
        "print(f\"Las soluciones son:\\nx1 = {x1}\\nx2 = {x2}\\nx3 = {x3}\")\n"
      ],
      "metadata": {
        "colab": {
          "base_uri": "https://localhost:8080/"
        },
        "id": "exB8AaLW4gEI",
        "outputId": "1c573c08-d3d5-4ed3-9aac-5a7f4e388455"
      },
      "execution_count": 3,
      "outputs": [
        {
          "output_type": "stream",
          "name": "stdout",
          "text": [
            "Las soluciones son:\n",
            "x1 = 3.5\n",
            "x2 = 1.0\n",
            "x3 = -1.0\n"
          ]
        }
      ]
    }
  ]
}