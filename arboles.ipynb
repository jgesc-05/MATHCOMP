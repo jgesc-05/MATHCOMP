{
  "nbformat": 4,
  "nbformat_minor": 0,
  "metadata": {
    "colab": {
      "provenance": []
    },
    "kernelspec": {
      "name": "python3",
      "display_name": "Python 3"
    },
    "language_info": {
      "name": "python"
    }
  },
  "cells": [
    {
      "cell_type": "markdown",
      "source": [
        "\n",
        "\n",
        "\n",
        "\n"
      ],
      "metadata": {
        "id": "pnnq1An-9rCR"
      }
    },
    {
      "cell_type": "code",
      "source": [
        "class Nodo:\n",
        "    def __init__(self, key):\n",
        "        self.left = None\n",
        "        self.right = None\n",
        "        self.value = key\n",
        "\n",
        "class Arbol:\n",
        "    def __init__(self):\n",
        "        self.root = None\n",
        "\n",
        "    def insert(self, key):\n",
        "        if self.root is None:\n",
        "            self.root = Nodo(key)\n",
        "        else:\n",
        "            self._insert_recursive(self.root, key)\n",
        "\n",
        "    def _insert_recursive(self, node, key):\n",
        "        if key < node.value:\n",
        "            if node.left is None:\n",
        "                node.left = Nodo(key)\n",
        "            else:\n",
        "                self._insert_recursive(node.left, key)\n",
        "        else:\n",
        "            if node.right is None:\n",
        "                node.right = Nodo(key)\n",
        "            else:\n",
        "                self._insert_recursive(node.right, key)\n",
        "\n",
        "    def preorder(self, node):\n",
        "        if node:\n",
        "            print(node.value, end=' ')\n",
        "            self.preorder(node.left)\n",
        "            self.preorder(node.right)\n",
        "\n",
        "    def inorder(self, node):\n",
        "        if node:\n",
        "            self.inorder(node.left)\n",
        "            print(node.value, end=' ')\n",
        "            self.inorder(node.right)\n",
        "\n",
        "    def postorder(self, node):\n",
        "        if node:\n",
        "            self.postorder(node.left)\n",
        "            self.postorder(node.right)\n",
        "            print(node.value, end=' ')\n",
        "\n",
        "    def height(self, node):\n",
        "        if node is None:\n",
        "            return 0\n",
        "        else:\n",
        "            left_height = self.height(node.left)\n",
        "            right_height = self.height(node.right)\n",
        "            return max(left_height, right_height) + 1\n",
        "\n",
        "    def depth(self, node, key, d=0):\n",
        "        if node is None:\n",
        "            return -1\n",
        "        if node.value == key:\n",
        "            return d\n",
        "        left_depth = self.depth(node.left, key, d + 1)\n",
        "        if left_depth != -1:\n",
        "            return left_depth\n",
        "        return self.depth(node.right, key, d + 1)\n",
        "\n",
        "# Crear el árbol y agregar nodos\n",
        "tree = Arbol()\n",
        "for value in [4, 2, 6, 1, 3, 5, 7]:\n",
        "    tree.insert(value)\n",
        "\n",
        "# Recorridos\n",
        "print(\"Preorder: \", end='')\n",
        "tree.preorder(tree.root)\n",
        "print(\"\\nInorder: \", end='')\n",
        "tree.inorder(tree.root)\n",
        "print(\"\\nPostorder: \", end='')\n",
        "tree.postorder(tree.root)\n",
        "\n",
        "# Altura del árbol\n",
        "print(f\"\\nAltura del árbol: {tree.height(tree.root)}\")\n",
        "\n",
        "# Profundidad de un nodo específico (ejemplo: nodo con valor 5)\n",
        "print(f\"Profundidad del nodo: {tree.depth(tree.root, 5)}\")\n"
      ],
      "metadata": {
        "colab": {
          "base_uri": "https://localhost:8080/"
        },
        "id": "oS5Re-LSB_pq",
        "outputId": "f9421dae-3c3d-433a-f96e-e98dedc71440"
      },
      "execution_count": 11,
      "outputs": [
        {
          "output_type": "stream",
          "name": "stdout",
          "text": [
            "Preorder: 4 2 1 3 6 5 7 \n",
            "Inorder: 1 2 3 4 5 6 7 \n",
            "Postorder: 1 3 2 5 7 6 4 \n",
            "Altura del árbol: 3\n",
            "Profundidad del nodo: 2\n"
          ]
        }
      ]
    }
  ]
}