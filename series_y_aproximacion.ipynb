{
  "nbformat": 4,
  "nbformat_minor": 0,
  "metadata": {
    "colab": {
      "provenance": []
    },
    "kernelspec": {
      "name": "python3",
      "display_name": "Python 3"
    },
    "language_info": {
      "name": "python"
    }
  },
  "cells": [
    {
      "cell_type": "code",
      "execution_count": 1,
      "metadata": {
        "colab": {
          "base_uri": "https://localhost:8080/"
        },
        "id": "aGi5jCDVMu-p",
        "outputId": "72c905e5-51d3-4861-b1f3-869c8ebd6051"
      },
      "outputs": [
        {
          "output_type": "stream",
          "name": "stdout",
          "text": [
            "Primera aproximación:\n",
            "Valor aproximado: 0.42741493194761127\n",
            "Error relativo aproximado: 4.542715973909724e-09%\n",
            "Número de iteraciones: 13\n",
            "\n",
            "Segunda aproximación:\n",
            "Valor aproximado: 0.42741493194895486\n",
            "Error relativo aproximado: 8.298847972392618e-10%\n",
            "Número de iteraciones: 13\n",
            "\n",
            "Valor real: 0.4274149319487267\n"
          ]
        }
      ],
      "source": [
        "#Ejercicio 1\n",
        "\n",
        "import math\n",
        "\n",
        "# Función para la primera aproximación\n",
        "def approx_1(x, tol=1e-8):\n",
        "    term = 1  # Primer término de la serie (1)\n",
        "    result = term\n",
        "    i = 1\n",
        "    error = tol + 1  # Error inicial mayor que la tolerancia\n",
        "\n",
        "    while error > tol:\n",
        "        prev_result = result\n",
        "        term *= -x / i  # Termino actual: (-x)^i / i!\n",
        "        result += term\n",
        "        i += 1\n",
        "        error = abs((result - prev_result) / result) * 100  # Error relativo porcentual\n",
        "\n",
        "    return result, error, i - 1  # Retorna el valor de la serie, el error y el número de términos\n",
        "\n",
        "# Función para la segunda aproximación\n",
        "def approx_2(x, tol=1e-8):\n",
        "    term = 1  # Primer término de la serie (1)\n",
        "    result = term\n",
        "    i = 1\n",
        "    error = tol + 1  # Error inicial mayor que la tolerancia\n",
        "\n",
        "    while error > tol:\n",
        "        prev_result = result\n",
        "        term *= x / i  # Termino actual: x^i / i!\n",
        "        result += term\n",
        "        i += 1\n",
        "        error = abs((1 / result - 1 / prev_result) / (1 / result)) * 100  # Error relativo porcentual\n",
        "\n",
        "    return 1 / result, error, i - 1  # Retorna el valor de la serie, el error y el número de términos\n",
        "\n",
        "# Parámetro x y cálculo del valor real para comparar\n",
        "x = 0.85\n",
        "real_value = math.exp(-x)\n",
        "\n",
        "# Evaluación de ambas aproximaciones\n",
        "value_approx_1, error_approx_1, iterations_approx_1 = approx_1(x)\n",
        "value_approx_2, error_approx_2, iterations_approx_2 = approx_2(x)\n",
        "\n",
        "# Impresión de resultados\n",
        "print(\"Primera aproximación:\")\n",
        "print(f\"Valor aproximado: {value_approx_1}\")\n",
        "print(f\"Error relativo aproximado: {error_approx_1}%\")\n",
        "print(f\"Número de iteraciones: {iterations_approx_1}\\n\")\n",
        "\n",
        "print(\"Segunda aproximación:\")\n",
        "print(f\"Valor aproximado: {value_approx_2}\")\n",
        "print(f\"Error relativo aproximado: {error_approx_2}%\")\n",
        "print(f\"Número de iteraciones: {iterations_approx_2}\\n\")\n",
        "\n",
        "print(f\"Valor real: {real_value}\")\n"
      ]
    },
    {
      "cell_type": "code",
      "source": [
        "#Ejercicio 2\n",
        "\n",
        "# Definir los valores de x y h\n",
        "x = 1\n",
        "h = 0.125\n",
        "\n",
        "# Definir la función y sus derivadas\n",
        "def f(x):\n",
        "    return x**4\n",
        "\n",
        "def f_prime(x):\n",
        "    return 4 * x**3\n",
        "\n",
        "def f_double_prime(x):\n",
        "    return 12 * x**2\n",
        "\n",
        "# Calcular la aproximación usando la serie de Taylor de orden 0 a 2\n",
        "approximation = f(x) + f_prime(x) * h + (f_double_prime(x) * h**2) / 2\n",
        "\n",
        "# Calcular el valor exacto en x + h para comparar\n",
        "exact_value = f(x + h)\n",
        "\n",
        "# Calcular el residuo (error) entre el valor exacto y la aproximación\n",
        "residual = abs(exact_value - approximation)\n",
        "\n",
        "# Imprimir los resultados\n",
        "print(f\"Aproximación de f(x) en x + h usando Taylor de orden 2: {approximation}\")\n",
        "print(f\"Valor exacto de f(x) en x + h: {exact_value}\")\n",
        "print(f\"Residuo (error) de la aproximación: {residual}\")\n"
      ],
      "metadata": {
        "colab": {
          "base_uri": "https://localhost:8080/"
        },
        "id": "GA3bVMWhM7mA",
        "outputId": "e3d6a29b-843a-4c09-fc79-82f7b30920c3"
      },
      "execution_count": 2,
      "outputs": [
        {
          "output_type": "stream",
          "name": "stdout",
          "text": [
            "Aproximación de f(x) en x + h usando Taylor de orden 2: 1.59375\n",
            "Valor exacto de f(x) en x + h: 1.601806640625\n",
            "Residuo (error) de la aproximación: 0.008056640625\n"
          ]
        }
      ]
    },
    {
      "cell_type": "code",
      "source": [
        "#Ejercicio 3\n",
        "\n",
        "import sympy as sp\n",
        "\n",
        "# Definir la primera función y sus derivadas para el problema 1\n",
        "x = sp.symbols('x')\n",
        "f1 = 1.1 * x**3 - 1.6 * x**2 + 3 * x - 5\n",
        "f1_prime = sp.diff(f1, x)\n",
        "f1_double_prime = sp.diff(f1_prime, x)\n",
        "f1_triple_prime = sp.diff(f1_double_prime, x)\n",
        "\n",
        "# Punto base y punto de evaluación para el problema 1\n",
        "a1 = 0.5\n",
        "x1_eval = 0.6\n",
        "h1 = x1_eval - a1\n",
        "\n",
        "# Calcular la aproximación usando la serie de Taylor de orden 3\n",
        "f1_approx = (f1.subs(x, a1) +\n",
        "             f1_prime.subs(x, a1) * h1 +\n",
        "             f1_double_prime.subs(x, a1) * h1**2 / 2 +\n",
        "             f1_triple_prime.subs(x, a1) * h1**3 / 6)\n",
        "\n",
        "# Imprimir resultados para el problema 1\n",
        "print(f\"Problema 1: Aproximación de f(0.6) usando Taylor de tercer orden: {f1_approx}\")\n",
        "\n",
        "# Definir la segunda función y sus derivadas para el problema 2\n",
        "f2 = 1.6 * sp.exp(x) - 4.2 * x + 2.75\n",
        "f2_prime = sp.diff(f2, x)\n",
        "f2_double_prime = sp.diff(f2_prime, x)\n",
        "f2_triple_prime = sp.diff(f2_double_prime, x)\n",
        "\n",
        "# Punto base y punto de evaluación para el problema 2\n",
        "a2 = 0.4\n",
        "x2_eval = 0.45\n",
        "h2 = x2_eval - a2\n",
        "\n",
        "# Calcular la aproximación usando la serie de Taylor de orden 3\n",
        "f2_approx = (f2.subs(x, a2) +\n",
        "             f2_prime.subs(x, a2) * h2 +\n",
        "             f2_double_prime.subs(x, a2) * h2**2 / 2 +\n",
        "             f2_triple_prime.subs(x, a2) * h2**3 / 6)\n",
        "\n",
        "# Imprimir resultados para el problema 2\n",
        "print(f\"Problema 2: Aproximación de f(0.45) usando Taylor de tercer orden: {f2_approx}\")\n",
        "\n"
      ],
      "metadata": {
        "colab": {
          "base_uri": "https://localhost:8080/"
        },
        "id": "6oucGVGPNRBp",
        "outputId": "5dcb2ba6-a88c-4f15-dc4d-6222c8f8983f"
      },
      "execution_count": 3,
      "outputs": [
        {
          "output_type": "stream",
          "name": "stdout",
          "text": [
            "Problema 1: Aproximación de f(0.6) usando Taylor de tercer orden: -3.53840000000000\n",
            "Problema 2: Aproximación de f(0.45) usando Taylor de tercer orden: 3.36929886892254\n"
          ]
        }
      ]
    }
  ]
}