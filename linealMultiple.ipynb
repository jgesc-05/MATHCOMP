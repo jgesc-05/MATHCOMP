{
  "nbformat": 4,
  "nbformat_minor": 0,
  "metadata": {
    "colab": {
      "provenance": []
    },
    "kernelspec": {
      "name": "python3",
      "display_name": "Python 3"
    },
    "language_info": {
      "name": "python"
    }
  },
  "cells": [
    {
      "cell_type": "code",
      "execution_count": 9,
      "metadata": {
        "colab": {
          "base_uri": "https://localhost:8080/"
        },
        "id": "oHTg5Lbc63U1",
        "outputId": "cf1c6bd5-b9c9-41ed-fa5c-cc6d1544b192"
      },
      "outputs": [
        {
          "output_type": "stream",
          "name": "stdout",
          "text": [
            "8\n",
            "8\n",
            "R: 0.9767414263248511\n"
          ]
        }
      ],
      "source": [
        "import pandas as pd\n",
        "from sklearn.model_selection import train_test_split\n",
        "from sklearn.linear_model import LinearRegression\n",
        "from sklearn.metrics import r2_score\n",
        "from scipy.stats import pearsonr\n",
        "\n",
        "data = {\n",
        "    'X_1': [1,1,2,3,1,2,3,3],\n",
        "    'X_2': [-1,0,0,1,1,2,2,0],\n",
        "    'Y': [1.6,3,1.1,1.2,3.2,3.3,1.7,0.1]\n",
        "  }\n",
        "\n",
        "df = pd.DataFrame(data)\n",
        "\n",
        "X = df[['X_1', 'X_2']]\n",
        "y = df['Y']\n",
        "\n",
        "X_train, X_test, y_train, y_test = train_test_split(X, y, test_size=0.2, random_state=42)\n",
        "\n",
        "modelo = LinearRegression()\n",
        "modelo.fit(X_train, y_train)\n",
        "\n",
        "y_pred = modelo.predict(X)\n",
        "\n",
        "\n",
        "\n",
        "r, _ = pearsonr(y, y_pred)\n",
        "\n",
        "print(\"R:\", r)"
      ]
    },
    {
      "cell_type": "code",
      "source": [],
      "metadata": {
        "id": "HebmTuDlE_nT"
      },
      "execution_count": null,
      "outputs": []
    }
  ]
}